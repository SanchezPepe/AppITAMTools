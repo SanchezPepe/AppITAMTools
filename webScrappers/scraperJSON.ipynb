{
 "metadata": {
  "language_info": {
   "codemirror_mode": {
    "name": "ipython",
    "version": 3
   },
   "file_extension": ".py",
   "mimetype": "text/x-python",
   "name": "python",
   "nbconvert_exporter": "python",
   "pygments_lexer": "ipython3",
   "version": "3.9.1-final"
  },
  "orig_nbformat": 2,
  "kernelspec": {
   "name": "python3",
   "display_name": "Python 3.9.1 64-bit",
   "metadata": {
    "interpreter": {
     "hash": "a11d20dd2acd8e4b98d48cc7af95d2b9f925b9c20084f25bba842ad73a849665"
    }
   }
  }
 },
 "nbformat": 4,
 "nbformat_minor": 2,
 "cells": [
  {
   "cell_type": "code",
   "execution_count": 4,
   "metadata": {},
   "outputs": [],
   "source": [
    "#Paquetes necesarios:\n",
    "import pandas as pd\n",
    "import time\n",
    "from bs4 import BeautifulSoup as bs\n",
    "from selenium import webdriver\n",
    "import json"
   ]
  },
  {
   "cell_type": "code",
   "execution_count": 7,
   "metadata": {},
   "outputs": [],
   "source": [
    "PATH = \"./chromedriver.exe\"\n",
    "driver = webdriver.Chrome(PATH) #Escribe el PATH de geckodriver\n",
    "driver.get(\"https://serviciosweb.itam.mx/EDSUP/BWZKSENP.P_Horarios1?s=1809\") #Cambia cada periodo\n",
    "soup=bs(driver.page_source, \"html.parser\")\n",
    "\n",
    "numCourses = len(soup(\"option\"))\n",
    "\n",
    "dataFrame = pd.DataFrame()\n",
    "\n",
    "courses = {}\n",
    "\n",
    "# Modificado para obtener todas las materias\n",
    "#for k in range(0, 2):#numCourses):\n",
    "for k in range(400, numCourses):\n",
    "\n",
    "    boton=driver.find_element_by_xpath(\"/html/body/div[3]/form/input[2]\")\n",
    "    materiak=driver.find_element_by_xpath('/html/body/div[3]/form/select/option[{}]'.format(k+1))\n",
    "    materiak.click()\n",
    "    \n",
    "    boton.click()\n",
    "    \n",
    "    tablak=pd.read_html(driver.page_source)\n",
    "    data = tablak[2][:][1:]\n",
    "\n",
    "    for i in range(len(data)):\n",
    "        row = data[:][i:i+1];\n",
    "\n",
    "        # Get the keys for the dictionary\n",
    "        # Key = Department + code + name\n",
    "        key = row[0].values[0] + '-' + row[1].values[0] + ' ' + row[4].values[0]\n",
    "        group = int(row[2].values[0])\n",
    "\n",
    "        #Built the object\n",
    "        newClass = {\n",
    "            \"type\": row[3].values[0],\n",
    "            \"teacher\": row[5].values[0], \n",
    "            \"credits\": row[6].values[0],\n",
    "            \"time\": row[7].values[0].split(\"-\"),\n",
    "            \"days\": row[8].values[0].split(\" \"),\n",
    "            \"room\": row[9].values[0],\n",
    "            \"campus\": row[10].values[0],\n",
    "            \"comments\": row[11].values[0]\n",
    "        }\n",
    "                    \n",
    "        #Validate that keys exist, if not we add it to the dict\n",
    "        if key not in courses:\n",
    "            courses[key] = {group : [newClass]}\n",
    "        elif group not in courses[key]:\n",
    "            courses[key][group] = [newClass]\n",
    "        else:\n",
    "            courses[key][group].append(newClass)\n",
    "        \n",
    "    driver.back()\n",
    "\n",
    "driver.quit()\n",
    "\n",
    "with open('courses.json', 'w') as fp:\n",
    "    json.dump(courses, fp)\n",
    "    #json.dump(courses, fp, indent=4)"
   ]
  },
  {
   "cell_type": "code",
   "execution_count": null,
   "metadata": {},
   "outputs": [],
   "source": []
  }
 ]
}